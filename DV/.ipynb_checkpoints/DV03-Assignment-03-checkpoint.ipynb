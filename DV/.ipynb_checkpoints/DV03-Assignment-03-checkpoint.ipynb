{
 "cells": [
  {
   "cell_type": "markdown",
   "metadata": {},
   "source": [
    "# ADS-DV Week 3 Assignment 3\n",
    "\n",
    "# Data exploration with Tableau\n",
    "\n",
    "## Summary\n",
    "This assignment lets you practice data exploration from scratch using Tableau.\n",
    "\n",
    "## Data exploration workflow\n",
    "To guide you in this assignment you can follow this workflow:\n",
    "\n",
    "1. First you have to find an interesting dataset. Tableau links to a set of interesting and compatible datasets: https://public.tableau.com/s/resources\n",
    "2. Connect with your data in Tableau. You can import and join multiple datasets.\n",
    "3. Browse you data and make sure you have an overview of the dimensions and measures in your dataset.\n",
    "4. Formulate questions about the data, or at least one to start with.\n",
    "5. Try to get an insight into the answer to your question by creating a visualization. Start by looking for the dimensions and measures that could help you reach the answer and what measures to assign to size, colors and labels. Do you need to filter the data?\n",
    "6. Did you answer the question? Then pose and answer the next question.\n",
    "7. Create a Dashboard that gives an overview of your visualizations.\n",
    "\n",
    "\n",
    "## Assignment A\n",
    "Download one of the datasets from the link above that interests you. Alternatively, you can use a different dataset. In that case, make sure you include the link or dataset in this iPython Notebook.\n",
    "\n",
    "As you have seen in the tutorial workbooks of the previous assignment, the visualizations start with a question such as: 'Which artists sell the most?'. When you pose a question, think of searching for outliers, trends or clusters.\n",
    "\n",
    "Ask 3 questions about your dataset and include them here. Then start the exploration workflow and include the resulting dashboard in this notebook."
   ]
  },
  {
   "cell_type": "markdown",
   "metadata": {},
   "source": [
    "### Dataset used\n",
    "I used the following dataset: Eurovision 1998-2012, which contains all countries along with artists, songs, place, points awarded, song quality and etc.\n",
    "\n",
    "### Questions about the dataset\n",
    "1. Which countries won the Eurovision and when?\n",
    "2. How did the song quality improved through the years and did it affect the scores?\n",
    "3. Which were the countries that hosted the Eurovision through the years?\n",
    "\n",
    "### Dasboard\n",
    "<img src=\"Eurovisions 1998-2012.jpg\">"
   ]
  }
 ],
 "metadata": {
  "kernelspec": {
   "display_name": "Python 3",
   "language": "python",
   "name": "python3"
  },
  "language_info": {
   "codemirror_mode": {
    "name": "ipython",
    "version": 3
   },
   "file_extension": ".py",
   "mimetype": "text/x-python",
   "name": "python",
   "nbconvert_exporter": "python",
   "pygments_lexer": "ipython3",
   "version": "3.3.5"
  }
 },
 "nbformat": 4,
 "nbformat_minor": 0
}
