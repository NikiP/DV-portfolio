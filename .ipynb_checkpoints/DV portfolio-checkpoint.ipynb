{
 "cells": [
  {
   "cell_type": "markdown",
   "metadata": {},
   "source": [
    "# Data Visualization Portfolio"
   ]
  },
  {
   "cell_type": "markdown",
   "metadata": {},
   "source": [
    "### Nikolay Polyanov\n",
    "###### January 16, 2016"
   ]
  },
  {
   "cell_type": "markdown",
   "metadata": {},
   "source": [
    "\n",
    "These are the assignments I did. The portfolio consists of Notebooks we were working on during the Data Visualization course.\n",
    "\n",
    "<a href=\"DV/DV02-Notebook-02.ipynb\">Assignment 2 week 2</a>\n",
    "\n",
    "<a href=\"DV/DV02-Notebook-03.ipynb\">Assignment 3 week 2</a>\n",
    "\n",
    "<a href=\"DV/DV02-Notebook-04.ipynb\">Assignment 4 week 2</a>\n",
    "\n",
    "<a href=\"DV/DV02-Notebook-05.ipynb\">Assignment 5 week 2</a>\n",
    "\n",
    "<a href=\"DV/DV03-Assignment-1.ipynb\">Assignment 1 week 3</a>\n",
    "\n",
    "<a href=\"DV/DV03-Assignment-02.ipynb\">Assignment 2 week 3</a>\n",
    "\n",
    "<a href=\"DV/DV03-Assignment-03.ipynb\">Assignment 3 week 3</a>\n",
    "\n",
    "<a href=\"DV/DV04-Assignment-01.ipynb\">Assignment 1 week 4 </a>\n",
    "\n",
    "<a href=\"DV/DV04-Assignment-02.ipynb\">Assignment 2 week 4 </a>\n",
    "\n",
    "\n",
    "\n"
   ]
  },
  {
   "cell_type": "code",
   "execution_count": null,
   "metadata": {
    "collapsed": true
   },
   "outputs": [],
   "source": []
  }
 ],
 "metadata": {
  "kernelspec": {
   "display_name": "Python 3",
   "language": "python",
   "name": "python3"
  },
  "language_info": {
   "codemirror_mode": {
    "name": "ipython",
    "version": 3
   },
   "file_extension": ".py",
   "mimetype": "text/x-python",
   "name": "python",
   "nbconvert_exporter": "python",
   "pygments_lexer": "ipython3",
   "version": "3.3.5"
  }
 },
 "nbformat": 4,
 "nbformat_minor": 0
}
